{
 "cells": [
  {
   "cell_type": "code",
   "execution_count": 20,
   "metadata": {
    "collapsed": true
   },
   "outputs": [],
   "source": [
    "import tensorflow as tf\n",
    "import os.path\n",
    "import time\n",
    "import math"
   ]
  },
  {
   "cell_type": "code",
   "execution_count": 2,
   "metadata": {
    "collapsed": true
   },
   "outputs": [],
   "source": [
    "from tensorflow.examples.tutorials.mnist import input_data"
   ]
  },
  {
   "cell_type": "code",
   "execution_count": 4,
   "metadata": {
    "collapsed": true
   },
   "outputs": [],
   "source": [
    "flags = tf.app.flags\n",
    "FLAGS = flags.FLAGS\n",
    "flags.DEFINE_float('learning_rate', 0.01, 'Initial learning rate.')\n",
    "flags.DEFINE_integer('max_steps', 2000, 'Number of steps to run trainer.')\n",
    "flags.DEFINE_integer('hidden1', 128, 'Number of units in hidden layer 1.')\n",
    "flags.DEFINE_integer('hidden2', 32, 'Number of units in hidden layer 2.')\n",
    "flags.DEFINE_integer('batch_size', 100, 'Batch size.  '\n",
    "                     'Must divide evenly into the dataset sizes.')\n",
    "flags.DEFINE_string('train_dir', 'data', 'Directory to put the training data.')\n",
    "flags.DEFINE_boolean('fake_data', False, 'If true, uses fake data '\n",
    "'for unit testing.')"
   ]
  },
  {
   "cell_type": "code",
   "execution_count": 8,
   "metadata": {
    "collapsed": true
   },
   "outputs": [],
   "source": [
    "NUM_CLASSES=10\n",
    "\n",
    "IMAGE_SIZE=28\n",
    "IMAGE_PIXELS=IMAGE_SIZE*IMAGE_SIZE"
   ]
  },
  {
   "cell_type": "code",
   "execution_count": 18,
   "metadata": {
    "collapsed": true
   },
   "outputs": [],
   "source": [
    "def placeholder_inputs(batch_size):\n",
    "    images_placeholder=tf.placeholder(tf.float32,shape=(batch_size,IMAGE_PIXELS))\n",
    "    labels_placeholder=tf.placeholder(tf.int32,shape=(batch_size))\n",
    "    return images_placeholder, labels_placeholder"
   ]
  },
  {
   "cell_type": "code",
   "execution_count": 9,
   "metadata": {
    "collapsed": true
   },
   "outputs": [],
   "source": [
    "def inference(images,hidden1_units,hidden2_units):\n",
    "    with tf.name_scope('hidden1'):\n",
    "        weights=tf.Variable(\n",
    "            tf.truncated_normal([IMAGE_PIXELS,hidden1_units],\n",
    "                                                stddev=1.0/math.sqrt(float(IMAGE_PIXELS))),\n",
    "                            name='weights')\n",
    "        biases=tf.Variable(tf.zeros([hidden1_units]),name='biases')\n",
    "        hidden1=tf.nn.relu(tf.matmul(images,weights)+biases)\n",
    "        \n",
    "    with tf.name_scope('hidden2'):\n",
    "        weights=tf.Variable(\n",
    "            tf.truncated_normal([hidden1_units,hidden2_units],\n",
    "                                               stddev=1.0/math.sqrt(float(hidden1_units))),\n",
    "                           name='weights')\n",
    "        biases=tf.Variable(tf.zeros([hidden2_units]),\n",
    "                          name='biases')\n",
    "        hidden2=tf.nn.relu(tf.matmul(hidden1,weights)+biases)\n",
    "        \n",
    "    with tf.name_scope('softmax_linear'):\n",
    "        weights=tf.Variable(\n",
    "            tf.truncated_normal([hidden2_units,NUM_CLASSES],\n",
    "                               stddev=1.0/math.sqrt(float(hidden2_units))),\n",
    "        name='weights')\n",
    "        biases=tf.Variable(tf.zeros([NUM_CLASSES]),\n",
    "                          name='biases')\n",
    "        logits=tf.matmul(hidden2,weights)+biases\n",
    "    return logits"
   ]
  },
  {
   "cell_type": "code",
   "execution_count": 23,
   "metadata": {
    "collapsed": true
   },
   "outputs": [],
   "source": [
    "def func_loss(logits,labels):\n",
    "    # http://colah.github.io/posts/2015-09-Visual-Information/\n",
    "    # cross-entropy explanation\n",
    "    labels=tf.to_int64(labels)\n",
    "    cross_entropy=tf.nn.sparse_softmax_cross_entropy_with_logits(logits,labels,name='xentropy')\n",
    "    loss=tf.reduce_mean(cross_entropy,name='xentropy_mean')\n",
    "    return loss"
   ]
  },
  {
   "cell_type": "code",
   "execution_count": 12,
   "metadata": {
    "collapsed": true
   },
   "outputs": [],
   "source": [
    "def training(loss,learning_rate):\n",
    "    tf.scalar_summary(loss.op.name,loss)\n",
    "    optimizer=tf.train.GradientDescentOptimizer(learning_rate)\n",
    "    global_step=tf.Variable(0,name='global_step',trainable=False)\n",
    "    train_op=optimizer.minimize(loss,global_step=global_step)\n",
    "    return train_op"
   ]
  },
  {
   "cell_type": "code",
   "execution_count": 13,
   "metadata": {
    "collapsed": true
   },
   "outputs": [],
   "source": [
    "def evaluation(logits,labels):\n",
    "    correct=tf.nn.in_top_k(logits,labels,1)\n",
    "    return tf.reduce_sum(tf.cast(correct,tf.int32))"
   ]
  },
  {
   "cell_type": "code",
   "execution_count": 6,
   "metadata": {
    "collapsed": false
   },
   "outputs": [
    {
     "name": "stdout",
     "output_type": "stream",
     "text": [
      "Successfully downloaded train-images-idx3-ubyte.gz 9912422 bytes.\n",
      "Extracting data/train-images-idx3-ubyte.gz\n",
      "Successfully downloaded train-labels-idx1-ubyte.gz 28881 bytes.\n",
      "Extracting data/train-labels-idx1-ubyte.gz\n",
      "Successfully downloaded t10k-images-idx3-ubyte.gz 1648877 bytes.\n",
      "Extracting data/t10k-images-idx3-ubyte.gz\n",
      "Successfully downloaded t10k-labels-idx1-ubyte.gz 4542 bytes.\n",
      "Extracting data/t10k-labels-idx1-ubyte.gz\n"
     ]
    }
   ],
   "source": [
    "data_sets=input_data.read_data_sets(FLAGS.train_dir,FLAGS.fake_data)"
   ]
  },
  {
   "cell_type": "code",
   "execution_count": 14,
   "metadata": {
    "collapsed": true
   },
   "outputs": [],
   "source": [
    "def fill_feed_dict(data_set,images_pl,labels_pl):\n",
    "    images_feed,labels_feed=data_set.next_batch(FLAGS.batch_size,FLAGS.fake_data)\n",
    "    \n",
    "    feed_dict={\n",
    "        images_pl: images_feed,\n",
    "        labels_pl: labels_feed,\n",
    "    }\n",
    "    return feed_dict"
   ]
  },
  {
   "cell_type": "code",
   "execution_count": 15,
   "metadata": {
    "collapsed": true
   },
   "outputs": [],
   "source": [
    "def do_eval(sess,\n",
    "            eval_correct,\n",
    "            images_placeholder,\n",
    "            labels_placeholder,\n",
    "            data_set):\n",
    "    true_count=0\n",
    "    steps_per_epoch=data_set.num_examples // FLAGS.batch_size\n",
    "    num_examples=steps_per_epoch * FLAGS.batch_size\n",
    "    for step in xrange(steps_per_epoch):\n",
    "        feed_dict=fill_feed_dict(data_set,\n",
    "                                images_placeholder,\n",
    "                                labels_placeholder)\n",
    "        true_count+=sess.run(eval_correct,feed_dict=feed_dict)\n",
    "    precision=true_count/num_examples\n",
    "    print('  Num examples: %d  Num correct: %d  Precision @ 1: %0.04f' %(num_examples, true_count, precision))"
   ]
  },
  {
   "cell_type": "code",
   "execution_count": 26,
   "metadata": {
    "collapsed": false
   },
   "outputs": [
    {
     "name": "stdout",
     "output_type": "stream",
     "text": [
      "Step 0: loss = 2.31 (0.006 sec)\n",
      "Step 100: loss = 2.15 (0.001 sec)\n",
      "Step 200: loss = 1.90 (0.001 sec)\n",
      "Step 300: loss = 1.61 (0.028 sec)\n",
      "Step 400: loss = 1.07 (0.001 sec)\n",
      "Step 500: loss = 0.96 (0.001 sec)\n",
      "Step 600: loss = 0.83 (0.001 sec)\n",
      "Step 700: loss = 0.88 (0.001 sec)\n",
      "Step 800: loss = 0.56 (0.001 sec)\n",
      "Step 900: loss = 0.56 (0.001 sec)\n",
      "Training Data Eval:\n",
      "  Num examples: 55000  Num correct: 47233  Precision @ 1: 0.0000\n",
      "Validation Data Eval:\n",
      "  Num examples: 5000  Num correct: 4338  Precision @ 1: 0.0000\n",
      "Test Data Eval:\n",
      "  Num examples: 10000  Num correct: 8654  Precision @ 1: 0.0000\n",
      "Step 1000: loss = 0.48 (0.001 sec)\n",
      "Step 1100: loss = 0.57 (0.001 sec)\n",
      "Step 1200: loss = 0.38 (0.001 sec)\n",
      "Step 1300: loss = 0.51 (0.003 sec)\n",
      "Step 1400: loss = 0.35 (0.032 sec)\n",
      "Step 1500: loss = 0.33 (0.001 sec)\n",
      "Step 1600: loss = 0.35 (0.001 sec)\n",
      "Step 1700: loss = 0.38 (0.008 sec)\n",
      "Step 1800: loss = 0.36 (0.001 sec)\n",
      "Step 1900: loss = 0.35 (0.001 sec)\n",
      "Training Data Eval:\n",
      "  Num examples: 55000  Num correct: 49237  Precision @ 1: 0.0000\n",
      "Validation Data Eval:\n",
      "  Num examples: 5000  Num correct: 4504  Precision @ 1: 0.0000\n",
      "Test Data Eval:\n",
      "  Num examples: 10000  Num correct: 8994  Precision @ 1: 0.0000\n"
     ]
    }
   ],
   "source": [
    "with tf.Graph().as_default():\n",
    "    images_placeholder,labels_placeholder=placeholder_inputs(FLAGS.batch_size)\n",
    "    logits=inference(images_placeholder,FLAGS.hidden1,FLAGS.hidden2)\n",
    "    loss=func_loss(logits,labels_placeholder)\n",
    "    train_op=training(loss,FLAGS.learning_rate)\n",
    "    eval_correct=evaluation(logits,labels_placeholder)\n",
    "    \n",
    "    summary=tf.merge_all_summaries()\n",
    "    init=tf.initialize_all_variables()\n",
    "    saver=tf.train.Saver()\n",
    "    \n",
    "    sess=tf.Session()\n",
    "    summary_writer=tf.train.SummaryWriter(FLAGS.train_dir,sess.graph)\n",
    "    sess.run(init)\n",
    "    \n",
    "    for step in xrange(FLAGS.max_steps):\n",
    "        start_time=time.time()\n",
    "        \n",
    "        feed_dict=fill_feed_dict(data_sets.train,\n",
    "                                images_placeholder,\n",
    "                                labels_placeholder)\n",
    "        \n",
    "        _, loss_value=sess.run([train_op,loss],\n",
    "                              feed_dict=feed_dict)\n",
    "        duration=time.time()-start_time\n",
    "        \n",
    "        if step%100==0:\n",
    "            print('Step %d: loss = %.2f (%.3f sec)'%(step,loss_value,duration))\n",
    "            summary_str=sess.run(summary,feed_dict=feed_dict)\n",
    "            summary_writer.add_summary(summary_str,step)\n",
    "            summary_writer.flush()\n",
    "            \n",
    "        if (step+1) %1000==0 or (step+1)==FLAGS.max_steps:\n",
    "            checkpoint_file=os.path.join(FLAGS.train_dir,'checkpoint')\n",
    "            saver.save(sess,checkpoint_file,global_step=step)\n",
    "            print('Training Data Eval:')\n",
    "            do_eval(sess,\n",
    "                   eval_correct,\n",
    "                   images_placeholder,\n",
    "                   labels_placeholder,\n",
    "                   data_sets.train)\n",
    "            print('Validation Data Eval:')\n",
    "            do_eval(sess,\n",
    "                    eval_correct,\n",
    "                    images_placeholder,\n",
    "                    labels_placeholder,\n",
    "                    data_sets.validation)\n",
    "            print('Test Data Eval:')\n",
    "            do_eval(sess,\n",
    "                    eval_correct,\n",
    "                    images_placeholder,\n",
    "                    labels_placeholder,\n",
    "                    data_sets.test)\n",
    "    sess.close()"
   ]
  }
 ],
 "metadata": {
  "kernelspec": {
   "display_name": "Python 2",
   "language": "python",
   "name": "python2"
  },
  "language_info": {
   "codemirror_mode": {
    "name": "ipython",
    "version": 2
   },
   "file_extension": ".py",
   "mimetype": "text/x-python",
   "name": "python",
   "nbconvert_exporter": "python",
   "pygments_lexer": "ipython2",
   "version": "2.7.12"
  }
 },
 "nbformat": 4,
 "nbformat_minor": 1
}
