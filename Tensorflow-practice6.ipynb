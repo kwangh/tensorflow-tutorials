{
 "cells": [
  {
   "cell_type": "markdown",
   "metadata": {},
   "source": [
    "# Reading data"
   ]
  },
  {
   "cell_type": "code",
   "execution_count": 67,
   "metadata": {
    "collapsed": true
   },
   "outputs": [],
   "source": [
    "from __future__ import print_function\n",
    "from __future__ import absolute_import\n",
    "\n",
    "import tensorflow as tf\n",
    "import argparse"
   ]
  },
  {
   "cell_type": "code",
   "execution_count": 68,
   "metadata": {
    "collapsed": true
   },
   "outputs": [],
   "source": [
    "def file_len(filename):\n",
    "    with open(filename) as f:\n",
    "        for i,l in enumerate(f):\n",
    "            pass\n",
    "    return i+1"
   ]
  },
  {
   "cell_type": "code",
   "execution_count": 69,
   "metadata": {
    "collapsed": false
   },
   "outputs": [],
   "source": [
    "def read_csv_format_file(filename_queue):\n",
    "    reader=tf.TextLineReader()\n",
    "    _,record_string=reader.read(filename_queue)\n",
    "    record_defaults=[[1],[1],[1],[1],[1]]\n",
    "    col1,col2,col3,col4,label=tf.decode_csv(record_string,record_defaults=record_defaults)\n",
    "    features=tf.pack([col1,col2,col3,col4])\n",
    "    return features,label"
   ]
  },
  {
   "cell_type": "code",
   "execution_count": 70,
   "metadata": {
    "collapsed": true
   },
   "outputs": [],
   "source": [
    "def input_pipeline(filenames,batch_size,num_epochs=None):\n",
    "    filename_queue=tf.train.string_input_producer(filenames,num_epochs=num_epochs,shuffle=True)\n",
    "    example,label=read_csv_format_file(filename_queue)\n",
    "    \n",
    "    min_after_dequeue=10000\n",
    "    capacity=min_after_dequeue+3*batch_size\n",
    "    example_batch,label_batch=tf.train.shuffle_batch(\n",
    "    [example,label],batch_size=batch_size,capacity=capacity,\n",
    "    min_after_dequeue=min_after_dequeue)\n",
    "    return example_batch,label_batch"
   ]
  },
  {
   "cell_type": "code",
   "execution_count": 73,
   "metadata": {
    "collapsed": true
   },
   "outputs": [],
   "source": [
    "filenames=['file0.csv']\n",
    "file_length=file_len(filenames[0]) # only first file length\n",
    "examples,labels=input_pipeline(filenames,batch_size=file_length,num_epochs=1)"
   ]
  },
  {
   "cell_type": "code",
   "execution_count": 77,
   "metadata": {
    "collapsed": false
   },
   "outputs": [
    {
     "name": "stdout",
     "output_type": "stream",
     "text": [
      "[[5 5 5 5]\n",
      " [3 3 3 3]\n",
      " [1 1 1 1]\n",
      " [4 4 4 4]\n",
      " [2 2 2 2]] [5 3 1 4 2]\n",
      "Done training -- epoch limit reached\n"
     ]
    }
   ],
   "source": [
    "with tf.Session() as sess:\n",
    "    init_op = tf.group(tf.initialize_all_variables(),tf.initialize_local_variables())\n",
    "    sess.run(init_op)\n",
    "    \n",
    "    coord=tf.train.Coordinator()\n",
    "    threads=tf.train.start_queue_runners(coord=coord)\n",
    "    \n",
    "    try:\n",
    "        while not coord.should_stop():\n",
    "            example_batch,label_batch=sess.run([examples,labels])\n",
    "            print(example_batch,label_batch)\n",
    "    except tf.errors.OutOfRangeError:\n",
    "        print('Done training -- epoch limit reached')\n",
    "    finally:\n",
    "        coord.request_stop()\n",
    "        \n",
    "    coord.join(threads)"
   ]
  }
 ],
 "metadata": {
  "kernelspec": {
   "display_name": "Python 2",
   "language": "python",
   "name": "python2"
  },
  "language_info": {
   "codemirror_mode": {
    "name": "ipython",
    "version": 2
   },
   "file_extension": ".py",
   "mimetype": "text/x-python",
   "name": "python",
   "nbconvert_exporter": "python",
   "pygments_lexer": "ipython2",
   "version": "2.7.12"
  }
 },
 "nbformat": 4,
 "nbformat_minor": 1
}
